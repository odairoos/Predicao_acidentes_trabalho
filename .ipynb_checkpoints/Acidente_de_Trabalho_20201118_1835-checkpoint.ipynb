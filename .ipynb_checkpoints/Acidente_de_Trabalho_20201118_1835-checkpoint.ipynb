{
 "cells": [
  {
   "cell_type": "markdown",
   "metadata": {
    "id": "9aVYMj9KIGeq"
   },
   "source": [
    "# Projeto - Acidente de Trabalho\n",
    "\n",
    "The database is basically records of accidents from 12 different plants in 03 different countries which every line in the data is an occurrence ofan accident"
   ]
  },
  {
   "cell_type": "code",
   "execution_count": 3,
   "metadata": {
    "colab": {
     "base_uri": "https://localhost:8080/"
    },
    "id": "JIMvQdF7HO92",
    "outputId": "538e9b54-ded0-4ac3-b3e1-5eb1156488e8"
   },
   "outputs": [
    {
     "ename": "ModuleNotFoundError",
     "evalue": "No module named 'pgmpy'",
     "output_type": "error",
     "traceback": [
      "\u001b[1;31m---------------------------------------------------------------------------\u001b[0m",
      "\u001b[1;31mModuleNotFoundError\u001b[0m                       Traceback (most recent call last)",
      "\u001b[1;32m<ipython-input-3-86b06355587c>\u001b[0m in \u001b[0;36m<module>\u001b[1;34m\u001b[0m\n\u001b[0;32m      5\u001b[0m \u001b[1;32mimport\u001b[0m \u001b[0mnumpy\u001b[0m \u001b[1;32mas\u001b[0m \u001b[0mnp\u001b[0m\u001b[1;33m\u001b[0m\u001b[1;33m\u001b[0m\u001b[0m\n\u001b[0;32m      6\u001b[0m \u001b[1;32mimport\u001b[0m \u001b[0mpandas\u001b[0m \u001b[1;32mas\u001b[0m \u001b[0mpd\u001b[0m\u001b[1;33m\u001b[0m\u001b[1;33m\u001b[0m\u001b[0m\n\u001b[1;32m----> 7\u001b[1;33m \u001b[1;32mimport\u001b[0m \u001b[0mpgmpy\u001b[0m\u001b[1;33m\u001b[0m\u001b[1;33m\u001b[0m\u001b[0m\n\u001b[0m\u001b[0;32m      8\u001b[0m \u001b[1;32mimport\u001b[0m \u001b[0mbnlearn\u001b[0m\u001b[1;33m\u001b[0m\u001b[1;33m\u001b[0m\u001b[0m\n\u001b[0;32m      9\u001b[0m \u001b[1;32mfrom\u001b[0m \u001b[0msklearn\u001b[0m\u001b[1;33m.\u001b[0m\u001b[0mpreprocessing\u001b[0m \u001b[1;32mimport\u001b[0m \u001b[0mStandardScaler\u001b[0m\u001b[1;33m,\u001b[0m \u001b[0mLabelEncoder\u001b[0m\u001b[1;33m,\u001b[0m \u001b[0mOneHotEncoder\u001b[0m\u001b[1;33m,\u001b[0m \u001b[0mminmax_scale\u001b[0m\u001b[1;33m,\u001b[0m \u001b[0mRobustScaler\u001b[0m\u001b[1;33m,\u001b[0m \u001b[0mMinMaxScaler\u001b[0m\u001b[1;33m,\u001b[0m \u001b[0mNormalizer\u001b[0m\u001b[1;33m\u001b[0m\u001b[1;33m\u001b[0m\u001b[0m\n",
      "\u001b[1;31mModuleNotFoundError\u001b[0m: No module named 'pgmpy'"
     ]
    }
   ],
   "source": [
    "# Importar bibliotecas\n",
    "import os\n",
    "import seaborn as sns\n",
    "import matplotlib.pyplot as plt\n",
    "import numpy as np\n",
    "import pandas as pd\n",
    "import pgmpy\n",
    "import bnlearn\n",
    "from sklearn.preprocessing import StandardScaler, LabelEncoder, OneHotEncoder, minmax_scale, RobustScaler, MinMaxScaler, Normalizer\n",
    "from sklearn.ensemble import RandomForestClassifier\n",
    "from sklearn.naive_bayes import GaussianNB, MultinomialNB, BernoulliNB, CategoricalNB\n",
    "from sklearn.model_selection import train_test_split, cross_val_score\n",
    "from sklearn.metrics import accuracy_score, confusion_matrix, plot_confusion_matrix, classification_report, mean_squared_error, cohen_kappa_score, make_scorer\n",
    "from sklearn.utils import shuffle\n",
    "from sklearn.tree import DecisionTreeClassifier\n",
    "from sklearn import tree\n",
    "import category_encoders as ce \n",
    "from math import sqrt\n",
    "import warnings\n",
    "warnings.filterwarnings('ignore');\n",
    "import plotly.express as px\n",
    "import random"
   ]
  },
  {
   "cell_type": "code",
   "execution_count": 5,
   "metadata": {
    "id": "zW9TkSOmHlh3"
   },
   "outputs": [],
   "source": [
    "url = 'https://raw.githubusercontent.com/paulo-al-castro/datafiles/master/accident_data.csv'\n",
    "db = pd.read_csv(url)"
   ]
  },
  {
   "cell_type": "code",
   "execution_count": 6,
   "metadata": {
    "colab": {
     "base_uri": "https://localhost:8080/",
     "height": 206
    },
    "id": "woI0gBIWHmT8",
    "outputId": "98c710ad-f97f-493d-c1de-210cbf31397e"
   },
   "outputs": [
    {
     "data": {
      "text/html": [
       "<div>\n",
       "<style scoped>\n",
       "    .dataframe tbody tr th:only-of-type {\n",
       "        vertical-align: middle;\n",
       "    }\n",
       "\n",
       "    .dataframe tbody tr th {\n",
       "        vertical-align: top;\n",
       "    }\n",
       "\n",
       "    .dataframe thead th {\n",
       "        text-align: right;\n",
       "    }\n",
       "</style>\n",
       "<table border=\"1\" class=\"dataframe\">\n",
       "  <thead>\n",
       "    <tr style=\"text-align: right;\">\n",
       "      <th></th>\n",
       "      <th>Data</th>\n",
       "      <th>Countries</th>\n",
       "      <th>Local</th>\n",
       "      <th>Industry Sector</th>\n",
       "      <th>Accident Level</th>\n",
       "      <th>Potential Accident Level</th>\n",
       "      <th>Genre</th>\n",
       "      <th>Employee ou Terceiro</th>\n",
       "      <th>Risco Critico</th>\n",
       "    </tr>\n",
       "  </thead>\n",
       "  <tbody>\n",
       "    <tr>\n",
       "      <th>0</th>\n",
       "      <td>2016-01-01 00:00:00</td>\n",
       "      <td>Country_01</td>\n",
       "      <td>Local_01</td>\n",
       "      <td>Mining</td>\n",
       "      <td>I</td>\n",
       "      <td>IV</td>\n",
       "      <td>Male</td>\n",
       "      <td>Third Party</td>\n",
       "      <td>Pressed</td>\n",
       "    </tr>\n",
       "    <tr>\n",
       "      <th>1</th>\n",
       "      <td>2016-01-02 00:00:00</td>\n",
       "      <td>Country_02</td>\n",
       "      <td>Local_02</td>\n",
       "      <td>Mining</td>\n",
       "      <td>I</td>\n",
       "      <td>IV</td>\n",
       "      <td>Male</td>\n",
       "      <td>Employee</td>\n",
       "      <td>Pressurized Systems</td>\n",
       "    </tr>\n",
       "    <tr>\n",
       "      <th>2</th>\n",
       "      <td>2016-01-06 00:00:00</td>\n",
       "      <td>Country_01</td>\n",
       "      <td>Local_03</td>\n",
       "      <td>Mining</td>\n",
       "      <td>I</td>\n",
       "      <td>III</td>\n",
       "      <td>Male</td>\n",
       "      <td>Third Party (Remote)</td>\n",
       "      <td>Manual Tools</td>\n",
       "    </tr>\n",
       "    <tr>\n",
       "      <th>3</th>\n",
       "      <td>2016-01-08 00:00:00</td>\n",
       "      <td>Country_01</td>\n",
       "      <td>Local_04</td>\n",
       "      <td>Mining</td>\n",
       "      <td>I</td>\n",
       "      <td>I</td>\n",
       "      <td>Male</td>\n",
       "      <td>Third Party</td>\n",
       "      <td>Others</td>\n",
       "    </tr>\n",
       "    <tr>\n",
       "      <th>4</th>\n",
       "      <td>2016-01-10 00:00:00</td>\n",
       "      <td>Country_01</td>\n",
       "      <td>Local_04</td>\n",
       "      <td>Mining</td>\n",
       "      <td>IV</td>\n",
       "      <td>IV</td>\n",
       "      <td>Male</td>\n",
       "      <td>Third Party</td>\n",
       "      <td>Others</td>\n",
       "    </tr>\n",
       "  </tbody>\n",
       "</table>\n",
       "</div>"
      ],
      "text/plain": [
       "                  Data   Countries     Local Industry Sector Accident Level  \\\n",
       "0  2016-01-01 00:00:00  Country_01  Local_01          Mining              I   \n",
       "1  2016-01-02 00:00:00  Country_02  Local_02          Mining              I   \n",
       "2  2016-01-06 00:00:00  Country_01  Local_03          Mining              I   \n",
       "3  2016-01-08 00:00:00  Country_01  Local_04          Mining              I   \n",
       "4  2016-01-10 00:00:00  Country_01  Local_04          Mining             IV   \n",
       "\n",
       "  Potential Accident Level Genre  Employee ou Terceiro        Risco Critico  \n",
       "0                       IV  Male           Third Party              Pressed  \n",
       "1                       IV  Male              Employee  Pressurized Systems  \n",
       "2                      III  Male  Third Party (Remote)         Manual Tools  \n",
       "3                        I  Male           Third Party               Others  \n",
       "4                       IV  Male           Third Party               Others  "
      ]
     },
     "execution_count": 6,
     "metadata": {},
     "output_type": "execute_result"
    }
   ],
   "source": [
    "db.head()"
   ]
  },
  {
   "cell_type": "code",
   "execution_count": 7,
   "metadata": {
    "colab": {
     "base_uri": "https://localhost:8080/"
    },
    "id": "5Yi6-DGsTeDV",
    "outputId": "0ae1e5c9-89ea-4d2c-fe0c-da2be959b1c3"
   },
   "outputs": [
    {
     "name": "stdout",
     "output_type": "stream",
     "text": [
      "<class 'pandas.core.frame.DataFrame'>\n",
      "RangeIndex: 439 entries, 0 to 438\n",
      "Data columns (total 9 columns):\n",
      " #   Column                    Non-Null Count  Dtype \n",
      "---  ------                    --------------  ----- \n",
      " 0   Data                      439 non-null    object\n",
      " 1   Countries                 439 non-null    object\n",
      " 2   Local                     439 non-null    object\n",
      " 3   Industry Sector           439 non-null    object\n",
      " 4   Accident Level            439 non-null    object\n",
      " 5   Potential Accident Level  439 non-null    object\n",
      " 6   Genre                     439 non-null    object\n",
      " 7   Employee ou Terceiro      439 non-null    object\n",
      " 8   Risco Critico             439 non-null    object\n",
      "dtypes: object(9)\n",
      "memory usage: 31.0+ KB\n"
     ]
    }
   ],
   "source": [
    "db.info()"
   ]
  },
  {
   "cell_type": "code",
   "execution_count": 8,
   "metadata": {
    "colab": {
     "base_uri": "https://localhost:8080/"
    },
    "id": "SO4TPsmCUZof",
    "outputId": "65d8ad45-e187-4091-a938-5a67c68a99e2"
   },
   "outputs": [
    {
     "data": {
      "text/plain": [
       "Data                        0\n",
       "Countries                   0\n",
       "Local                       0\n",
       "Industry Sector             0\n",
       "Accident Level              0\n",
       "Potential Accident Level    0\n",
       "Genre                       0\n",
       "Employee ou Terceiro        0\n",
       "Risco Critico               0\n",
       "dtype: int64"
      ]
     },
     "execution_count": 8,
     "metadata": {},
     "output_type": "execute_result"
    }
   ],
   "source": [
    "# Verificar se existe alguma coluna sem valor atribuído\n",
    "categorial = [var for var in db.columns]\n",
    "db[categorial].isnull().sum()"
   ]
  },
  {
   "cell_type": "markdown",
   "metadata": {
    "id": "OsFF0wEWIoTO"
   },
   "source": [
    "### Columns description\n",
    "\n",
    "**Data:** timestamp or time/date information\n",
    "\n",
    "**Countries:** which country the accident occurred (anonymized)\n",
    "\n",
    "**Local:** the city where the manufacturing plant is located (anonymized)\n",
    "\n",
    "**Industry sector:** which sector the plant belongs to (Mining, metals,Others)\n",
    "\n",
    "**Accident level:** from I to VI, it registers how severe was the accident (I means not severe ...VI most severe)\n",
    "\n",
    "**Potential Accident Level:** Depending on the Accident Level, the database also registers how severe the accident could have been (due to other factors involved in the accident)\n",
    "\n",
    "**Genre:** ifthe person is male offemale\n",
    "\n",
    "**Employee or Third Party:** if the injured person is an employee or a third party\n",
    "\n",
    "**Critical Risk:** some description ofthe risk involved in the accident"
   ]
  },
  {
   "cell_type": "markdown",
   "metadata": {
    "id": "bx3qr-4r0aZ5"
   },
   "source": [
    "**Verificar quantidade de itens diferentes em cada coluna**"
   ]
  },
  {
   "cell_type": "code",
   "execution_count": 9,
   "metadata": {
    "colab": {
     "base_uri": "https://localhost:8080/"
    },
    "id": "10jIgisi0kyS",
    "outputId": "8501e74d-4b4c-450b-f776-585195c0795a"
   },
   "outputs": [
    {
     "data": {
      "text/plain": [
       "Country_01    263\n",
       "Country_02    132\n",
       "Country_03     44\n",
       "Name: Countries, dtype: int64"
      ]
     },
     "execution_count": 9,
     "metadata": {},
     "output_type": "execute_result"
    }
   ],
   "source": [
    "db['Countries'].value_counts()"
   ]
  },
  {
   "cell_type": "code",
   "execution_count": 10,
   "metadata": {
    "colab": {
     "base_uri": "https://localhost:8080/"
    },
    "id": "orZIuvaN03iA",
    "outputId": "f93212e5-ba8f-4436-ea88-449d5e02fa0e"
   },
   "outputs": [
    {
     "data": {
      "text/plain": [
       "Local_03    90\n",
       "Local_05    59\n",
       "Local_06    58\n",
       "Local_01    57\n",
       "Local_04    56\n",
       "Local_10    44\n",
       "Local_08    29\n",
       "Local_02    24\n",
       "Local_07    14\n",
       "Local_12     4\n",
       "Local_11     2\n",
       "Local_09     2\n",
       "Name: Local, dtype: int64"
      ]
     },
     "execution_count": 10,
     "metadata": {},
     "output_type": "execute_result"
    }
   ],
   "source": [
    "db['Local'].value_counts()"
   ]
  },
  {
   "cell_type": "code",
   "execution_count": 11,
   "metadata": {
    "colab": {
     "base_uri": "https://localhost:8080/"
    },
    "id": "QQYZ6iDn06ls",
    "outputId": "e8cf1368-f541-4ac8-8277-eb29766fac1b"
   },
   "outputs": [
    {
     "data": {
      "text/plain": [
       "Mining    241\n",
       "Metals    148\n",
       "Others     50\n",
       "Name: Industry Sector, dtype: int64"
      ]
     },
     "execution_count": 11,
     "metadata": {},
     "output_type": "execute_result"
    }
   ],
   "source": [
    "db['Industry Sector'].value_counts()"
   ]
  },
  {
   "cell_type": "markdown",
   "metadata": {
    "id": "jTkhPSD71d9e"
   },
   "source": [
    "Percebe-se que poderemos ter problemas com a quantidade de 'Accident Level' (nível do acidente), pois os acidentes de maior nível são de menor quantidade."
   ]
  },
  {
   "cell_type": "code",
   "execution_count": 12,
   "metadata": {
    "colab": {
     "base_uri": "https://localhost:8080/"
    },
    "id": "dIjnx1GA08Js",
    "outputId": "ae3c1e9d-2ce1-4c06-df28-381241c32eff"
   },
   "outputs": [
    {
     "data": {
      "text/plain": [
       "I      328\n",
       "II      40\n",
       "III     31\n",
       "IV      31\n",
       "V        9\n",
       "Name: Accident Level, dtype: int64"
      ]
     },
     "execution_count": 12,
     "metadata": {},
     "output_type": "execute_result"
    }
   ],
   "source": [
    "db['Accident Level'].value_counts().sort_index()"
   ]
  },
  {
   "cell_type": "code",
   "execution_count": 13,
   "metadata": {
    "colab": {
     "base_uri": "https://localhost:8080/"
    },
    "id": "nzMa_I7v08iL",
    "outputId": "b6d03b8d-9ae8-450a-d072-4a5e4c4f2fdd"
   },
   "outputs": [
    {
     "data": {
      "text/plain": [
       "I       49\n",
       "II      95\n",
       "III    106\n",
       "IV     155\n",
       "V       33\n",
       "VI       1\n",
       "Name: Potential Accident Level, dtype: int64"
      ]
     },
     "execution_count": 13,
     "metadata": {},
     "output_type": "execute_result"
    }
   ],
   "source": [
    "db['Potential Accident Level'].value_counts().sort_index()"
   ]
  },
  {
   "cell_type": "code",
   "execution_count": 14,
   "metadata": {
    "colab": {
     "base_uri": "https://localhost:8080/"
    },
    "id": "ezQUR9Ak084R",
    "outputId": "956b7ccf-339d-4f84-ebfa-dbbac4e79139"
   },
   "outputs": [
    {
     "data": {
      "text/plain": [
       "Male      417\n",
       "Female     22\n",
       "Name: Genre, dtype: int64"
      ]
     },
     "execution_count": 14,
     "metadata": {},
     "output_type": "execute_result"
    }
   ],
   "source": [
    "db['Genre'].value_counts()"
   ]
  },
  {
   "cell_type": "code",
   "execution_count": 15,
   "metadata": {
    "colab": {
     "base_uri": "https://localhost:8080/"
    },
    "id": "5KJsm_4309dj",
    "outputId": "976c1c54-b23d-43ab-f743-324f4b38f033"
   },
   "outputs": [
    {
     "data": {
      "text/plain": [
       "Third Party             189\n",
       "Employee                181\n",
       "Third Party (Remote)     69\n",
       "Name: Employee ou Terceiro, dtype: int64"
      ]
     },
     "execution_count": 15,
     "metadata": {},
     "output_type": "execute_result"
    }
   ],
   "source": [
    "db['Employee ou Terceiro'].value_counts()"
   ]
  },
  {
   "cell_type": "code",
   "execution_count": 16,
   "metadata": {
    "colab": {
     "base_uri": "https://localhost:8080/"
    },
    "id": "wlTSoGoo09vK",
    "outputId": "00f808ea-c8e0-41d1-c399-0e07c328ff00"
   },
   "outputs": [
    {
     "name": "stdout",
     "output_type": "stream",
     "text": [
      "Quantidade de itens diferentes em Risco Crítico: 34\n"
     ]
    },
    {
     "data": {
      "text/plain": [
       "Others                                       232\n",
       "Pressed                                       24\n",
       "Manual Tools                                  20\n",
       "Chemical substances                           17\n",
       "Venomous Animals                              16\n",
       "Pressurized Systems / Chemical Substances     15\n",
       "Cut                                           14\n",
       "Projection                                    13\n",
       "Bees                                          10\n",
       "Fall                                           9\n",
       "Vehicles and Mobile Equipment                  8\n",
       "Fall prevention (same level)                   7\n",
       "Pressurized Systems                            7\n",
       "remains of choco                               7\n",
       "Fall prevention                                6\n",
       "Suspended Loads                                6\n",
       "Blocking and isolation of energies             3\n",
       "Liquid Metal                                   3\n",
       "Power lock                                     3\n",
       "Projection of fragments                        2\n",
       "Machine Protection                             2\n",
       "Electrical Shock                               2\n",
       "Not applicable                                 2\n",
       "Individual protection equipment                1\n",
       "Electrical installation                        1\n",
       "\\nNot applicable                               1\n",
       "Projection/Burning                             1\n",
       "Poll                                           1\n",
       "Burn                                           1\n",
       "Projection/Manual Tools                        1\n",
       "Confined space                                 1\n",
       "Projection/Choco                               1\n",
       "Plates                                         1\n",
       "Traffic                                        1\n",
       "Name: Risco Critico, dtype: int64"
      ]
     },
     "execution_count": 16,
     "metadata": {},
     "output_type": "execute_result"
    }
   ],
   "source": [
    "print('Quantidade de itens diferentes em Risco Crítico: {}'.format(len(db['Risco Critico'].unique())))\n",
    "\n",
    "db['Risco Critico'].value_counts()"
   ]
  },
  {
   "cell_type": "markdown",
   "metadata": {
    "id": "HnZj-8P3kfZH"
   },
   "source": [
    "Possivelmente existem alguns Riscos Críticos que são identicos ou de certa forma parecidas. O ideal é juntar os riscos iguais com nomes diferentes. \n",
    "A coluna 'Risco Critico' possui dois itens, diferentes, de 'Not applicable', iremos colocá-los juntos.\n"
   ]
  },
  {
   "cell_type": "code",
   "execution_count": 17,
   "metadata": {
    "colab": {
     "base_uri": "https://localhost:8080/"
    },
    "id": "Q5tEE8hchJ7R",
    "outputId": "5815a0b5-1255-4d2d-836b-b326b04c0fb1"
   },
   "outputs": [
    {
     "name": "stdout",
     "output_type": "stream",
     "text": [
      "Quantidade de itens diferentes em Risco Crítico: 23\n"
     ]
    },
    {
     "data": {
      "text/plain": [
       "Others                                       232\n",
       "Pressurized Systems / Chemical Substances     39\n",
       "Pressed                                       24\n",
       "Fall                                          22\n",
       "Manual Tools                                  21\n",
       "Venomous Animals                              16\n",
       "Projection                                    16\n",
       "Cut                                           14\n",
       "Bees                                          10\n",
       "Vehicles and Mobile Equipment                  8\n",
       "remains of choco                               7\n",
       "Suspended Loads                                6\n",
       "Blocking and isolation of energies             5\n",
       "Power lock                                     4\n",
       "Liquid Metal                                   3\n",
       "Not applicable                                 3\n",
       "Machine Protection                             2\n",
       "Burn                                           2\n",
       "Individual protection equipment                1\n",
       "Poll                                           1\n",
       "Confined space                                 1\n",
       "Plates                                         1\n",
       "Traffic                                        1\n",
       "Name: Risco Critico, dtype: int64"
      ]
     },
     "execution_count": 17,
     "metadata": {},
     "output_type": "execute_result"
    }
   ],
   "source": [
    "db.loc[(db['Risco Critico'] == '\\nNot applicable'), 'Risco Critico'] = 'Not applicable'\n",
    "db.loc[(db['Risco Critico'] == 'Fall prevention (same level)') | (db['Risco Critico'] == 'Fall prevention'), 'Risco Critico'] = 'Fall'\n",
    "db.loc[(db['Risco Critico'] == 'Projection of fragments') | (db['Risco Critico'] == 'Projection/Choco'), 'Risco Critico'] = 'Projection'\n",
    "db.loc[(db['Risco Critico'] == 'Projection/Manual Tools'), 'Risco Critico'] = 'Manual Tools'\n",
    "db.loc[(db['Risco Critico'] == 'Projection/Burning') , 'Risco Critico'] = 'Burn'\n",
    "db.loc[(db['Risco Critico'] == 'Electrical Shock'), 'Risco Critico'] = 'Blocking and isolation of energies'\n",
    "db.loc[(db['Risco Critico'] == 'Electrical installation'), 'Risco Critico'] = 'Power lock'\n",
    "db.loc[(db['Risco Critico'] == 'Pressurized Systems') | (db['Risco Critico'] == 'Chemical substances'), 'Risco Critico'] = 'Pressurized Systems / Chemical Substances'\n",
    "\n",
    "# Os novos valores atribuídos para o 'Risco Critico' ficaram assim:\n",
    "print('Quantidade de itens diferentes em Risco Crítico: {}'.format(len(db['Risco Critico'].unique())))\n",
    "\n",
    "db['Risco Critico'].value_counts()"
   ]
  },
  {
   "cell_type": "markdown",
   "metadata": {
    "id": "WtIHQMGkKBSh"
   },
   "source": [
    "**Tipos dos dados nas colunas**"
   ]
  },
  {
   "cell_type": "code",
   "execution_count": 18,
   "metadata": {
    "colab": {
     "base_uri": "https://localhost:8080/"
    },
    "id": "iNfvw_FfKGSQ",
    "outputId": "b48e2313-ea96-4613-8e40-f5ee596489f8"
   },
   "outputs": [
    {
     "data": {
      "text/plain": [
       "Data                        object\n",
       "Countries                   object\n",
       "Local                       object\n",
       "Industry Sector             object\n",
       "Accident Level              object\n",
       "Potential Accident Level    object\n",
       "Genre                       object\n",
       "Employee ou Terceiro        object\n",
       "Risco Critico               object\n",
       "dtype: object"
      ]
     },
     "execution_count": 18,
     "metadata": {},
     "output_type": "execute_result"
    }
   ],
   "source": [
    "db.dtypes"
   ]
  },
  {
   "cell_type": "markdown",
   "metadata": {
    "id": "WVZhrMFGhRop"
   },
   "source": [
    "Vamos dividir a coluna 'Data' em quatro colunas de interesse: day (dia), month (mês), year (ano) e week_day (dia da semana)."
   ]
  },
  {
   "cell_type": "code",
   "execution_count": 20,
   "metadata": {
    "id": "EzQMv3QhKWa8"
   },
   "outputs": [
    {
     "ename": "KeyError",
     "evalue": "'Data'",
     "output_type": "error",
     "traceback": [
      "\u001b[1;31m---------------------------------------------------------------------------\u001b[0m",
      "\u001b[1;31mKeyError\u001b[0m                                  Traceback (most recent call last)",
      "\u001b[1;32m~\\anaconda3\\lib\\site-packages\\pandas\\core\\indexes\\base.py\u001b[0m in \u001b[0;36mget_loc\u001b[1;34m(self, key, method, tolerance)\u001b[0m\n\u001b[0;32m   2645\u001b[0m             \u001b[1;32mtry\u001b[0m\u001b[1;33m:\u001b[0m\u001b[1;33m\u001b[0m\u001b[1;33m\u001b[0m\u001b[0m\n\u001b[1;32m-> 2646\u001b[1;33m                 \u001b[1;32mreturn\u001b[0m \u001b[0mself\u001b[0m\u001b[1;33m.\u001b[0m\u001b[0m_engine\u001b[0m\u001b[1;33m.\u001b[0m\u001b[0mget_loc\u001b[0m\u001b[1;33m(\u001b[0m\u001b[0mkey\u001b[0m\u001b[1;33m)\u001b[0m\u001b[1;33m\u001b[0m\u001b[1;33m\u001b[0m\u001b[0m\n\u001b[0m\u001b[0;32m   2647\u001b[0m             \u001b[1;32mexcept\u001b[0m \u001b[0mKeyError\u001b[0m\u001b[1;33m:\u001b[0m\u001b[1;33m\u001b[0m\u001b[1;33m\u001b[0m\u001b[0m\n",
      "\u001b[1;32mpandas\\_libs\\index.pyx\u001b[0m in \u001b[0;36mpandas._libs.index.IndexEngine.get_loc\u001b[1;34m()\u001b[0m\n",
      "\u001b[1;32mpandas\\_libs\\index.pyx\u001b[0m in \u001b[0;36mpandas._libs.index.IndexEngine.get_loc\u001b[1;34m()\u001b[0m\n",
      "\u001b[1;32mpandas\\_libs\\hashtable_class_helper.pxi\u001b[0m in \u001b[0;36mpandas._libs.hashtable.PyObjectHashTable.get_item\u001b[1;34m()\u001b[0m\n",
      "\u001b[1;32mpandas\\_libs\\hashtable_class_helper.pxi\u001b[0m in \u001b[0;36mpandas._libs.hashtable.PyObjectHashTable.get_item\u001b[1;34m()\u001b[0m\n",
      "\u001b[1;31mKeyError\u001b[0m: 'Data'",
      "\nDuring handling of the above exception, another exception occurred:\n",
      "\u001b[1;31mKeyError\u001b[0m                                  Traceback (most recent call last)",
      "\u001b[1;32m<ipython-input-20-b5f9685c886d>\u001b[0m in \u001b[0;36m<module>\u001b[1;34m\u001b[0m\n\u001b[1;32m----> 1\u001b[1;33m \u001b[0mdb\u001b[0m\u001b[1;33m[\u001b[0m\u001b[1;34m'Data'\u001b[0m\u001b[1;33m]\u001b[0m \u001b[1;33m=\u001b[0m \u001b[0mdb\u001b[0m\u001b[1;33m[\u001b[0m\u001b[1;34m'Data'\u001b[0m\u001b[1;33m]\u001b[0m\u001b[1;33m.\u001b[0m\u001b[0mastype\u001b[0m\u001b[1;33m(\u001b[0m\u001b[0mstr\u001b[0m\u001b[1;33m)\u001b[0m\u001b[1;33m.\u001b[0m\u001b[0mstr\u001b[0m\u001b[1;33m.\u001b[0m\u001b[0msplit\u001b[0m\u001b[1;33m(\u001b[0m\u001b[1;34m' '\u001b[0m\u001b[1;33m,\u001b[0m \u001b[0mexpand\u001b[0m\u001b[1;33m=\u001b[0m\u001b[1;32mTrue\u001b[0m\u001b[1;33m)\u001b[0m\u001b[1;33m[\u001b[0m\u001b[1;36m0\u001b[0m\u001b[1;33m]\u001b[0m\u001b[1;33m\u001b[0m\u001b[1;33m\u001b[0m\u001b[0m\n\u001b[0m\u001b[0;32m      2\u001b[0m \u001b[0mdb\u001b[0m\u001b[1;33m[\u001b[0m\u001b[1;34m'Data'\u001b[0m\u001b[1;33m]\u001b[0m \u001b[1;33m=\u001b[0m \u001b[0mpd\u001b[0m\u001b[1;33m.\u001b[0m\u001b[0mto_datetime\u001b[0m\u001b[1;33m(\u001b[0m\u001b[0mdb\u001b[0m\u001b[1;33m[\u001b[0m\u001b[1;34m'Data'\u001b[0m\u001b[1;33m]\u001b[0m\u001b[1;33m.\u001b[0m\u001b[0mastype\u001b[0m\u001b[1;33m(\u001b[0m\u001b[0mstr\u001b[0m\u001b[1;33m)\u001b[0m\u001b[1;33m,\u001b[0m \u001b[0mformat\u001b[0m\u001b[1;33m=\u001b[0m\u001b[1;34m'%Y-%m-%d'\u001b[0m\u001b[1;33m)\u001b[0m\u001b[1;33m.\u001b[0m\u001b[0mdt\u001b[0m\u001b[1;33m.\u001b[0m\u001b[0mdate\u001b[0m\u001b[1;33m\u001b[0m\u001b[1;33m\u001b[0m\u001b[0m\n\u001b[0;32m      3\u001b[0m \u001b[0mdb\u001b[0m\u001b[1;33m[\u001b[0m\u001b[1;34m\"Day\"\u001b[0m\u001b[1;33m]\u001b[0m \u001b[1;33m=\u001b[0m \u001b[0mdb\u001b[0m\u001b[1;33m[\u001b[0m\u001b[1;34m'Data'\u001b[0m\u001b[1;33m]\u001b[0m\u001b[1;33m.\u001b[0m\u001b[0mmap\u001b[0m\u001b[1;33m(\u001b[0m\u001b[1;32mlambda\u001b[0m \u001b[0mx\u001b[0m\u001b[1;33m:\u001b[0m \u001b[0mx\u001b[0m\u001b[1;33m.\u001b[0m\u001b[0mday\u001b[0m\u001b[1;33m)\u001b[0m\u001b[1;33m\u001b[0m\u001b[1;33m\u001b[0m\u001b[0m\n\u001b[0;32m      4\u001b[0m \u001b[0mdb\u001b[0m\u001b[1;33m[\u001b[0m\u001b[1;34m\"Month\"\u001b[0m\u001b[1;33m]\u001b[0m \u001b[1;33m=\u001b[0m \u001b[0mdb\u001b[0m\u001b[1;33m[\u001b[0m\u001b[1;34m'Data'\u001b[0m\u001b[1;33m]\u001b[0m\u001b[1;33m.\u001b[0m\u001b[0mmap\u001b[0m\u001b[1;33m(\u001b[0m\u001b[1;32mlambda\u001b[0m \u001b[0mx\u001b[0m\u001b[1;33m:\u001b[0m \u001b[0mx\u001b[0m\u001b[1;33m.\u001b[0m\u001b[0mmonth\u001b[0m\u001b[1;33m)\u001b[0m\u001b[1;33m\u001b[0m\u001b[1;33m\u001b[0m\u001b[0m\n\u001b[0;32m      5\u001b[0m \u001b[0mdb\u001b[0m\u001b[1;33m[\u001b[0m\u001b[1;34m\"Year\"\u001b[0m\u001b[1;33m]\u001b[0m \u001b[1;33m=\u001b[0m \u001b[0mdb\u001b[0m\u001b[1;33m[\u001b[0m\u001b[1;34m'Data'\u001b[0m\u001b[1;33m]\u001b[0m\u001b[1;33m.\u001b[0m\u001b[0mmap\u001b[0m\u001b[1;33m(\u001b[0m\u001b[1;32mlambda\u001b[0m \u001b[0mx\u001b[0m\u001b[1;33m:\u001b[0m \u001b[0mx\u001b[0m\u001b[1;33m.\u001b[0m\u001b[0myear\u001b[0m\u001b[1;33m)\u001b[0m\u001b[1;33m\u001b[0m\u001b[1;33m\u001b[0m\u001b[0m\n",
      "\u001b[1;32m~\\anaconda3\\lib\\site-packages\\pandas\\core\\frame.py\u001b[0m in \u001b[0;36m__getitem__\u001b[1;34m(self, key)\u001b[0m\n\u001b[0;32m   2798\u001b[0m             \u001b[1;32mif\u001b[0m \u001b[0mself\u001b[0m\u001b[1;33m.\u001b[0m\u001b[0mcolumns\u001b[0m\u001b[1;33m.\u001b[0m\u001b[0mnlevels\u001b[0m \u001b[1;33m>\u001b[0m \u001b[1;36m1\u001b[0m\u001b[1;33m:\u001b[0m\u001b[1;33m\u001b[0m\u001b[1;33m\u001b[0m\u001b[0m\n\u001b[0;32m   2799\u001b[0m                 \u001b[1;32mreturn\u001b[0m \u001b[0mself\u001b[0m\u001b[1;33m.\u001b[0m\u001b[0m_getitem_multilevel\u001b[0m\u001b[1;33m(\u001b[0m\u001b[0mkey\u001b[0m\u001b[1;33m)\u001b[0m\u001b[1;33m\u001b[0m\u001b[1;33m\u001b[0m\u001b[0m\n\u001b[1;32m-> 2800\u001b[1;33m             \u001b[0mindexer\u001b[0m \u001b[1;33m=\u001b[0m \u001b[0mself\u001b[0m\u001b[1;33m.\u001b[0m\u001b[0mcolumns\u001b[0m\u001b[1;33m.\u001b[0m\u001b[0mget_loc\u001b[0m\u001b[1;33m(\u001b[0m\u001b[0mkey\u001b[0m\u001b[1;33m)\u001b[0m\u001b[1;33m\u001b[0m\u001b[1;33m\u001b[0m\u001b[0m\n\u001b[0m\u001b[0;32m   2801\u001b[0m             \u001b[1;32mif\u001b[0m \u001b[0mis_integer\u001b[0m\u001b[1;33m(\u001b[0m\u001b[0mindexer\u001b[0m\u001b[1;33m)\u001b[0m\u001b[1;33m:\u001b[0m\u001b[1;33m\u001b[0m\u001b[1;33m\u001b[0m\u001b[0m\n\u001b[0;32m   2802\u001b[0m                 \u001b[0mindexer\u001b[0m \u001b[1;33m=\u001b[0m \u001b[1;33m[\u001b[0m\u001b[0mindexer\u001b[0m\u001b[1;33m]\u001b[0m\u001b[1;33m\u001b[0m\u001b[1;33m\u001b[0m\u001b[0m\n",
      "\u001b[1;32m~\\anaconda3\\lib\\site-packages\\pandas\\core\\indexes\\base.py\u001b[0m in \u001b[0;36mget_loc\u001b[1;34m(self, key, method, tolerance)\u001b[0m\n\u001b[0;32m   2646\u001b[0m                 \u001b[1;32mreturn\u001b[0m \u001b[0mself\u001b[0m\u001b[1;33m.\u001b[0m\u001b[0m_engine\u001b[0m\u001b[1;33m.\u001b[0m\u001b[0mget_loc\u001b[0m\u001b[1;33m(\u001b[0m\u001b[0mkey\u001b[0m\u001b[1;33m)\u001b[0m\u001b[1;33m\u001b[0m\u001b[1;33m\u001b[0m\u001b[0m\n\u001b[0;32m   2647\u001b[0m             \u001b[1;32mexcept\u001b[0m \u001b[0mKeyError\u001b[0m\u001b[1;33m:\u001b[0m\u001b[1;33m\u001b[0m\u001b[1;33m\u001b[0m\u001b[0m\n\u001b[1;32m-> 2648\u001b[1;33m                 \u001b[1;32mreturn\u001b[0m \u001b[0mself\u001b[0m\u001b[1;33m.\u001b[0m\u001b[0m_engine\u001b[0m\u001b[1;33m.\u001b[0m\u001b[0mget_loc\u001b[0m\u001b[1;33m(\u001b[0m\u001b[0mself\u001b[0m\u001b[1;33m.\u001b[0m\u001b[0m_maybe_cast_indexer\u001b[0m\u001b[1;33m(\u001b[0m\u001b[0mkey\u001b[0m\u001b[1;33m)\u001b[0m\u001b[1;33m)\u001b[0m\u001b[1;33m\u001b[0m\u001b[1;33m\u001b[0m\u001b[0m\n\u001b[0m\u001b[0;32m   2649\u001b[0m         \u001b[0mindexer\u001b[0m \u001b[1;33m=\u001b[0m \u001b[0mself\u001b[0m\u001b[1;33m.\u001b[0m\u001b[0mget_indexer\u001b[0m\u001b[1;33m(\u001b[0m\u001b[1;33m[\u001b[0m\u001b[0mkey\u001b[0m\u001b[1;33m]\u001b[0m\u001b[1;33m,\u001b[0m \u001b[0mmethod\u001b[0m\u001b[1;33m=\u001b[0m\u001b[0mmethod\u001b[0m\u001b[1;33m,\u001b[0m \u001b[0mtolerance\u001b[0m\u001b[1;33m=\u001b[0m\u001b[0mtolerance\u001b[0m\u001b[1;33m)\u001b[0m\u001b[1;33m\u001b[0m\u001b[1;33m\u001b[0m\u001b[0m\n\u001b[0;32m   2650\u001b[0m         \u001b[1;32mif\u001b[0m \u001b[0mindexer\u001b[0m\u001b[1;33m.\u001b[0m\u001b[0mndim\u001b[0m \u001b[1;33m>\u001b[0m \u001b[1;36m1\u001b[0m \u001b[1;32mor\u001b[0m \u001b[0mindexer\u001b[0m\u001b[1;33m.\u001b[0m\u001b[0msize\u001b[0m \u001b[1;33m>\u001b[0m \u001b[1;36m1\u001b[0m\u001b[1;33m:\u001b[0m\u001b[1;33m\u001b[0m\u001b[1;33m\u001b[0m\u001b[0m\n",
      "\u001b[1;32mpandas\\_libs\\index.pyx\u001b[0m in \u001b[0;36mpandas._libs.index.IndexEngine.get_loc\u001b[1;34m()\u001b[0m\n",
      "\u001b[1;32mpandas\\_libs\\index.pyx\u001b[0m in \u001b[0;36mpandas._libs.index.IndexEngine.get_loc\u001b[1;34m()\u001b[0m\n",
      "\u001b[1;32mpandas\\_libs\\hashtable_class_helper.pxi\u001b[0m in \u001b[0;36mpandas._libs.hashtable.PyObjectHashTable.get_item\u001b[1;34m()\u001b[0m\n",
      "\u001b[1;32mpandas\\_libs\\hashtable_class_helper.pxi\u001b[0m in \u001b[0;36mpandas._libs.hashtable.PyObjectHashTable.get_item\u001b[1;34m()\u001b[0m\n",
      "\u001b[1;31mKeyError\u001b[0m: 'Data'"
     ]
    }
   ],
   "source": [
    "db['Data'] = db['Data'].astype(str).str.split(' ', expand=True)[0]\n",
    "db['Data'] = pd.to_datetime(db['Data'].astype(str), format='%Y-%m-%d').dt.date\n",
    "db[\"Day\"] = db['Data'].map(lambda x: x.day)\n",
    "db[\"Month\"] = db['Data'].map(lambda x: x.month)\n",
    "db[\"Year\"] = db['Data'].map(lambda x: x.year)\n",
    "db['Week_day'] = db['Data'].map(lambda x: x.weekday())\n",
    "db.drop(columns='Data', inplace=True)"
   ]
  },
  {
   "cell_type": "code",
   "execution_count": 21,
   "metadata": {
    "colab": {
     "base_uri": "https://localhost:8080/",
     "height": 206
    },
    "id": "IPZiVPTG88aB",
    "outputId": "9dba6b32-2cc9-4545-bdb7-7f5aece43dd9"
   },
   "outputs": [
    {
     "data": {
      "text/html": [
       "<div>\n",
       "<style scoped>\n",
       "    .dataframe tbody tr th:only-of-type {\n",
       "        vertical-align: middle;\n",
       "    }\n",
       "\n",
       "    .dataframe tbody tr th {\n",
       "        vertical-align: top;\n",
       "    }\n",
       "\n",
       "    .dataframe thead th {\n",
       "        text-align: right;\n",
       "    }\n",
       "</style>\n",
       "<table border=\"1\" class=\"dataframe\">\n",
       "  <thead>\n",
       "    <tr style=\"text-align: right;\">\n",
       "      <th></th>\n",
       "      <th>Year</th>\n",
       "      <th>Month</th>\n",
       "      <th>Day</th>\n",
       "      <th>Week_day</th>\n",
       "      <th>Countries</th>\n",
       "      <th>Local</th>\n",
       "      <th>Industry Sector</th>\n",
       "      <th>Potential Accident Level</th>\n",
       "      <th>Genre</th>\n",
       "      <th>Employee ou Terceiro</th>\n",
       "      <th>Risco Critico</th>\n",
       "      <th>Accident Level</th>\n",
       "    </tr>\n",
       "  </thead>\n",
       "  <tbody>\n",
       "    <tr>\n",
       "      <th>0</th>\n",
       "      <td>2016</td>\n",
       "      <td>1</td>\n",
       "      <td>1</td>\n",
       "      <td>4</td>\n",
       "      <td>Country_01</td>\n",
       "      <td>Local_01</td>\n",
       "      <td>Mining</td>\n",
       "      <td>IV</td>\n",
       "      <td>Male</td>\n",
       "      <td>Third Party</td>\n",
       "      <td>Pressed</td>\n",
       "      <td>I</td>\n",
       "    </tr>\n",
       "    <tr>\n",
       "      <th>1</th>\n",
       "      <td>2016</td>\n",
       "      <td>1</td>\n",
       "      <td>2</td>\n",
       "      <td>5</td>\n",
       "      <td>Country_02</td>\n",
       "      <td>Local_02</td>\n",
       "      <td>Mining</td>\n",
       "      <td>IV</td>\n",
       "      <td>Male</td>\n",
       "      <td>Employee</td>\n",
       "      <td>Pressurized Systems / Chemical Substances</td>\n",
       "      <td>I</td>\n",
       "    </tr>\n",
       "    <tr>\n",
       "      <th>2</th>\n",
       "      <td>2016</td>\n",
       "      <td>1</td>\n",
       "      <td>6</td>\n",
       "      <td>2</td>\n",
       "      <td>Country_01</td>\n",
       "      <td>Local_03</td>\n",
       "      <td>Mining</td>\n",
       "      <td>III</td>\n",
       "      <td>Male</td>\n",
       "      <td>Third Party (Remote)</td>\n",
       "      <td>Manual Tools</td>\n",
       "      <td>I</td>\n",
       "    </tr>\n",
       "    <tr>\n",
       "      <th>3</th>\n",
       "      <td>2016</td>\n",
       "      <td>1</td>\n",
       "      <td>8</td>\n",
       "      <td>4</td>\n",
       "      <td>Country_01</td>\n",
       "      <td>Local_04</td>\n",
       "      <td>Mining</td>\n",
       "      <td>I</td>\n",
       "      <td>Male</td>\n",
       "      <td>Third Party</td>\n",
       "      <td>Others</td>\n",
       "      <td>I</td>\n",
       "    </tr>\n",
       "    <tr>\n",
       "      <th>4</th>\n",
       "      <td>2016</td>\n",
       "      <td>1</td>\n",
       "      <td>10</td>\n",
       "      <td>6</td>\n",
       "      <td>Country_01</td>\n",
       "      <td>Local_04</td>\n",
       "      <td>Mining</td>\n",
       "      <td>IV</td>\n",
       "      <td>Male</td>\n",
       "      <td>Third Party</td>\n",
       "      <td>Others</td>\n",
       "      <td>IV</td>\n",
       "    </tr>\n",
       "  </tbody>\n",
       "</table>\n",
       "</div>"
      ],
      "text/plain": [
       "   Year  Month  Day  Week_day   Countries     Local Industry Sector  \\\n",
       "0  2016      1    1         4  Country_01  Local_01          Mining   \n",
       "1  2016      1    2         5  Country_02  Local_02          Mining   \n",
       "2  2016      1    6         2  Country_01  Local_03          Mining   \n",
       "3  2016      1    8         4  Country_01  Local_04          Mining   \n",
       "4  2016      1   10         6  Country_01  Local_04          Mining   \n",
       "\n",
       "  Potential Accident Level Genre  Employee ou Terceiro  \\\n",
       "0                       IV  Male           Third Party   \n",
       "1                       IV  Male              Employee   \n",
       "2                      III  Male  Third Party (Remote)   \n",
       "3                        I  Male           Third Party   \n",
       "4                       IV  Male           Third Party   \n",
       "\n",
       "                               Risco Critico Accident Level  \n",
       "0                                    Pressed              I  \n",
       "1  Pressurized Systems / Chemical Substances              I  \n",
       "2                               Manual Tools              I  \n",
       "3                                     Others              I  \n",
       "4                                     Others             IV  "
      ]
     },
     "execution_count": 21,
     "metadata": {},
     "output_type": "execute_result"
    }
   ],
   "source": [
    "# Reorganizar ordens das colunas\n",
    "# Passar as colunas 'Day', 'Month', 'Year' e 'Week_day' para as primeiras posições do dataset e o 'Accident Level' para última coluna\n",
    "cols = db.columns.to_list()\n",
    "cols = [cols[-2]] + [cols[-3]] + [cols[-4]] + [cols[-1]] + cols[:3] + cols[4:8] + [cols[3]] \n",
    "db = db[cols]\n",
    "db.head()"
   ]
  },
  {
   "cell_type": "markdown",
   "metadata": {
    "id": "Q6p_3tBeo7P3"
   },
   "source": [
    "## Análise dos dados"
   ]
  },
  {
   "cell_type": "code",
   "execution_count": 22,
   "metadata": {},
   "outputs": [],
   "source": [
    "def img_barplot(dataset, eixo_x, especie):\n",
    "    '''Função para transformar os dados de interesse em gráfico de barras em modo stacked\n",
    "    dataset -> banco de dados\n",
    "    eixo_x -> coluna do dataset que ficará no eixo x do gráfico de barras\n",
    "    especie -> coluna do dataset que divide o resultado em especies\n",
    "    \n",
    "    saída -> gráfico de barras mostrando a quantidade de acidentes pelo eixo_x dividido pela espécie\n",
    "    '''\n",
    "    eixo_y = 'Year'\n",
    "    title = f'Gráfico de Quantidade de Acidentes em \\'{eixo_x}\\' dividido por \\'{especie}\\''\n",
    "    dataset_dados = dataset.groupby(by=[eixo_x, especie])[eixo_y].count().reset_index()\n",
    "    fig = px.bar(dataset_dados, x=eixo_x, y=eixo_y, color=especie, \n",
    "                 barmode = 'stack', title=title, labels={'Year':'Quantidade de Acidentes'})\n",
    "    fig.show()"
   ]
  },
  {
   "cell_type": "markdown",
   "metadata": {},
   "source": [
    "        Não existe a mesma variável 'Local' para 'Countries' diferentes. Logo a coluna 'Countries' poderá ser descartada:"
   ]
  },
  {
   "cell_type": "code",
   "execution_count": 23,
   "metadata": {},
   "outputs": [
    {
     "ename": "NameError",
     "evalue": "name 'px' is not defined",
     "output_type": "error",
     "traceback": [
      "\u001b[1;31m---------------------------------------------------------------------------\u001b[0m",
      "\u001b[1;31mNameError\u001b[0m                                 Traceback (most recent call last)",
      "\u001b[1;32m<ipython-input-23-571df52379e6>\u001b[0m in \u001b[0;36m<module>\u001b[1;34m\u001b[0m\n\u001b[0;32m      1\u001b[0m \u001b[0mx\u001b[0m\u001b[1;33m,\u001b[0m \u001b[0mspecies\u001b[0m \u001b[1;33m=\u001b[0m \u001b[1;34m'Countries'\u001b[0m\u001b[1;33m,\u001b[0m \u001b[1;34m'Local'\u001b[0m\u001b[1;33m\u001b[0m\u001b[1;33m\u001b[0m\u001b[0m\n\u001b[1;32m----> 2\u001b[1;33m \u001b[0mimg_barplot\u001b[0m\u001b[1;33m(\u001b[0m\u001b[0mdb\u001b[0m\u001b[1;33m,\u001b[0m \u001b[0mx\u001b[0m\u001b[1;33m,\u001b[0m \u001b[0mspecies\u001b[0m\u001b[1;33m)\u001b[0m\u001b[1;33m\u001b[0m\u001b[1;33m\u001b[0m\u001b[0m\n\u001b[0m",
      "\u001b[1;32m<ipython-input-22-af9340a58a85>\u001b[0m in \u001b[0;36mimg_barplot\u001b[1;34m(dataset, eixo_x, especie)\u001b[0m\n\u001b[0;32m     10\u001b[0m     \u001b[0mtitle\u001b[0m \u001b[1;33m=\u001b[0m \u001b[1;34mf'Gráfico de Quantidade de Acidentes em \\'{eixo_x}\\' dividido por \\'{especie}\\''\u001b[0m\u001b[1;33m\u001b[0m\u001b[1;33m\u001b[0m\u001b[0m\n\u001b[0;32m     11\u001b[0m     \u001b[0mdataset_dados\u001b[0m \u001b[1;33m=\u001b[0m \u001b[0mdataset\u001b[0m\u001b[1;33m.\u001b[0m\u001b[0mgroupby\u001b[0m\u001b[1;33m(\u001b[0m\u001b[0mby\u001b[0m\u001b[1;33m=\u001b[0m\u001b[1;33m[\u001b[0m\u001b[0meixo_x\u001b[0m\u001b[1;33m,\u001b[0m \u001b[0mespecie\u001b[0m\u001b[1;33m]\u001b[0m\u001b[1;33m)\u001b[0m\u001b[1;33m[\u001b[0m\u001b[0meixo_y\u001b[0m\u001b[1;33m]\u001b[0m\u001b[1;33m.\u001b[0m\u001b[0mcount\u001b[0m\u001b[1;33m(\u001b[0m\u001b[1;33m)\u001b[0m\u001b[1;33m.\u001b[0m\u001b[0mreset_index\u001b[0m\u001b[1;33m(\u001b[0m\u001b[1;33m)\u001b[0m\u001b[1;33m\u001b[0m\u001b[1;33m\u001b[0m\u001b[0m\n\u001b[1;32m---> 12\u001b[1;33m     fig = px.bar(dataset_dados, x=eixo_x, y=eixo_y, color=especie, \n\u001b[0m\u001b[0;32m     13\u001b[0m                  barmode = 'stack', title=title, labels={'Year':'Quantidade de Acidentes'})\n\u001b[0;32m     14\u001b[0m     \u001b[0mfig\u001b[0m\u001b[1;33m.\u001b[0m\u001b[0mshow\u001b[0m\u001b[1;33m(\u001b[0m\u001b[1;33m)\u001b[0m\u001b[1;33m\u001b[0m\u001b[1;33m\u001b[0m\u001b[0m\n",
      "\u001b[1;31mNameError\u001b[0m: name 'px' is not defined"
     ]
    }
   ],
   "source": [
    "x, species = 'Countries', 'Local'\n",
    "img_barplot(db, x, species)"
   ]
  },
  {
   "cell_type": "markdown",
   "metadata": {},
   "source": [
    "        Cada 'Local' tem somente um tipo de setor industrial ('Industry Sector'):"
   ]
  },
  {
   "cell_type": "code",
   "execution_count": null,
   "metadata": {},
   "outputs": [],
   "source": [
    "x, species = 'Local', 'Industry Sector'\n",
    "img_barplot(db, x, species)"
   ]
  },
  {
   "cell_type": "markdown",
   "metadata": {},
   "source": [
    "        Relação de setor industrial em cada país:"
   ]
  },
  {
   "cell_type": "code",
   "execution_count": null,
   "metadata": {},
   "outputs": [],
   "source": [
    "x, species = 'Countries', 'Industry Sector'\n",
    "img_barplot(db, x, species)"
   ]
  },
  {
   "cell_type": "code",
   "execution_count": null,
   "metadata": {},
   "outputs": [],
   "source": [
    "x, species = 'Countries', 'Accident Level'\n",
    "img_barplot(db, x, species)"
   ]
  },
  {
   "cell_type": "markdown",
   "metadata": {},
   "source": [
    "        Quantidade de Nível de acidentes (Accident Level) por 'Industry Sector':"
   ]
  },
  {
   "cell_type": "code",
   "execution_count": null,
   "metadata": {},
   "outputs": [],
   "source": [
    "x, species = 'Industry Sector', 'Accident Level'\n",
    "img_barplot(db, x, species)"
   ]
  },
  {
   "cell_type": "markdown",
   "metadata": {},
   "source": [
    "        Quantidade de Nível de acidentes (Accident Level) por 'Risco Critico':     "
   ]
  },
  {
   "cell_type": "code",
   "execution_count": null,
   "metadata": {},
   "outputs": [],
   "source": [
    "x, species = 'Risco Critico', 'Accident Level'\n",
    "img_barplot(db, x, species)"
   ]
  },
  {
   "cell_type": "markdown",
   "metadata": {},
   "source": [
    "        Quantidade de Nível de acidentes (Accident Level) por 'Potential Accident Level':    \n",
    "        Percebe-se que há uma relação de casualidade entre eles. O 'Potential Accident Level' não pode ser mais baixo que o 'Accident Level'."
   ]
  },
  {
   "cell_type": "code",
   "execution_count": null,
   "metadata": {},
   "outputs": [],
   "source": [
    "x, species = 'Potential Accident Level', 'Accident Level'\n",
    "img_barplot(db, x, species)"
   ]
  },
  {
   "cell_type": "markdown",
   "metadata": {},
   "source": [
    "        Há uma relação no nível de acidente causados por 'Third Party':"
   ]
  },
  {
   "cell_type": "code",
   "execution_count": null,
   "metadata": {},
   "outputs": [],
   "source": [
    "x, species = 'Employee ou Terceiro', 'Accident Level'\n",
    "img_barplot(db, x, species)"
   ]
  },
  {
   "cell_type": "markdown",
   "metadata": {},
   "source": [
    "        Há uma relação entre país e tipo de empregado:"
   ]
  },
  {
   "cell_type": "code",
   "execution_count": null,
   "metadata": {},
   "outputs": [],
   "source": [
    "x, species = 'Countries', 'Employee ou Terceiro'\n",
    "img_barplot(db, x, species)"
   ]
  },
  {
   "cell_type": "markdown",
   "metadata": {},
   "source": [
    "        Há uma relação entre setor industrial e tipo de empregado:"
   ]
  },
  {
   "cell_type": "code",
   "execution_count": null,
   "metadata": {},
   "outputs": [],
   "source": [
    "x, species = 'Industry Sector', 'Employee ou Terceiro'\n",
    "img_barplot(db, x, species)"
   ]
  },
  {
   "cell_type": "code",
   "execution_count": null,
   "metadata": {},
   "outputs": [],
   "source": [
    "x, species = 'Local', 'Accident Level'\n",
    "img_barplot(db, x, species)"
   ]
  },
  {
   "cell_type": "markdown",
   "metadata": {},
   "source": [
    "        Há uma relação entre local e tipo de empregado:"
   ]
  },
  {
   "cell_type": "code",
   "execution_count": null,
   "metadata": {},
   "outputs": [],
   "source": [
    "x, species = 'Local', 'Employee ou Terceiro'\n",
    "img_barplot(db, x, species)"
   ]
  },
  {
   "cell_type": "code",
   "execution_count": null,
   "metadata": {},
   "outputs": [],
   "source": [
    "x, species = 'Accident Level', 'Genre'\n",
    "img_barplot(db, x, species)"
   ]
  },
  {
   "cell_type": "markdown",
   "metadata": {},
   "source": [
    "        Há relação entre gênero e países:"
   ]
  },
  {
   "cell_type": "code",
   "execution_count": null,
   "metadata": {},
   "outputs": [],
   "source": [
    "x, species = 'Countries', 'Genre'\n",
    "img_barplot(db, x, species)"
   ]
  },
  {
   "cell_type": "markdown",
   "metadata": {},
   "source": [
    "        Há relação entre local e gênero:"
   ]
  },
  {
   "cell_type": "code",
   "execution_count": null,
   "metadata": {},
   "outputs": [],
   "source": [
    "x, species = 'Local', 'Genre'\n",
    "img_barplot(db, x, species)"
   ]
  },
  {
   "cell_type": "markdown",
   "metadata": {},
   "source": [
    "        Existe uma relação de proporção entre gênero no setor da industria:\n",
    "        Exemplo: Existem mais homens trabalhando em mining."
   ]
  },
  {
   "cell_type": "code",
   "execution_count": null,
   "metadata": {},
   "outputs": [],
   "source": [
    "x, species = 'Industry Sector', 'Genre'\n",
    "img_barplot(db, x, species)"
   ]
  },
  {
   "cell_type": "markdown",
   "metadata": {},
   "source": [
    "        Há uma relação entre risco crítico e Potential Accident Level:"
   ]
  },
  {
   "cell_type": "code",
   "execution_count": null,
   "metadata": {},
   "outputs": [],
   "source": [
    "x, species = 'Risco Critico', 'Potential Accident Level'\n",
    "img_barplot(db, x, species)"
   ]
  },
  {
   "cell_type": "markdown",
   "metadata": {},
   "source": [
    "        Há relação entre país e risco crítico:"
   ]
  },
  {
   "cell_type": "code",
   "execution_count": null,
   "metadata": {},
   "outputs": [],
   "source": [
    "x, species = 'Risco Critico', 'Countries'\n",
    "img_barplot(db, x, species)"
   ]
  },
  {
   "cell_type": "code",
   "execution_count": null,
   "metadata": {},
   "outputs": [],
   "source": [
    "x, species = 'Risco Critico', 'Genre'\n",
    "img_barplot(db, x, species)"
   ]
  },
  {
   "cell_type": "markdown",
   "metadata": {},
   "source": [
    "        Relação de acidente no dia da semana pelo setor industrial:"
   ]
  },
  {
   "cell_type": "code",
   "execution_count": null,
   "metadata": {},
   "outputs": [],
   "source": [
    "x, species = 'Week_day', 'Industry Sector'\n",
    "img_barplot(db, x, species)"
   ]
  },
  {
   "cell_type": "markdown",
   "metadata": {},
   "source": [
    "        Quantidade de acidentes no dia da semana:"
   ]
  },
  {
   "cell_type": "code",
   "execution_count": null,
   "metadata": {
    "colab": {
     "base_uri": "https://localhost:8080/",
     "height": 330
    },
    "id": "iJ7yqWNjo5d6",
    "outputId": "978ce49f-484f-4280-d598-1bb7028f3204"
   },
   "outputs": [],
   "source": [
    "db_week = db['Week_day'].value_counts(normalize=True).sort_index()\n",
    "db_week.index = ['Segunda', 'Terça', 'Quarta', 'Quinta', 'Sexta', 'Sabado', 'Domingo']\n",
    "\n",
    "round(db_week*100, 2).plot.bar(color='Blue')\n",
    "plt.plot([round((db_week*100).mean(), 2)]*7, 'red')\n",
    "plt.text(5.5, 15.5, 'Média', color='red',fontsize=14)\n",
    "plt.title('Quantidade de Acidentes no dia da Semana')\n",
    "plt.xlabel('Dia da Semana')\n",
    "plt.ylabel('Frequência [%]')\n",
    "plt.show()"
   ]
  },
  {
   "cell_type": "code",
   "execution_count": null,
   "metadata": {
    "colab": {
     "base_uri": "https://localhost:8080/",
     "height": 350
    },
    "id": "tscH5GCZ2JWE",
    "outputId": "1f2327cc-7993-4677-a3ef-4c51978d0cf1"
   },
   "outputs": [],
   "source": [
    "valor_2016 = db.loc[(db['Year'] == 2016), ['Month', 'Day']].groupby(by='Month').count().reset_index()\n",
    "valor_2017 = db.loc[(db['Year'] == 2017), ['Month', 'Day']].groupby(by='Month').count().reset_index()\n",
    "\n",
    "plt.figure(figsize=(10, 5))\n",
    "sns.barplot(x='Month', y='Day', data=valor_2016, color='Blue')\n",
    "plt.plot([valor_2016['Day'].mean()]*12, 'red')\n",
    "plt.title('Frequência [%] de Acidentes por mês no Ano de 2016')\n",
    "plt.xlabel('Mês')\n",
    "plt.ylabel('Frequência [%]')\n",
    "plt.show()\n",
    "\n",
    "plt.figure(figsize=(10, 5))\n",
    "sns.barplot(x='Month', y='Day', data=valor_2017, color='Blue')\n",
    "plt.plot([valor_2017['Day'].mean()]*7, 'red')\n",
    "plt.title('Frequência [%] de Acidentes por mês no Ano de 2017')\n",
    "plt.xlabel('Mês')\n",
    "plt.ylabel('Frequência [%]')\n",
    "plt.show()"
   ]
  },
  {
   "cell_type": "code",
   "execution_count": null,
   "metadata": {},
   "outputs": [],
   "source": [
    "valor_2016 = db.loc[(db['Year'] == 2016), ['Month', 'Day']].groupby(by='Day').count().reset_index()\n",
    "valor_2017 = db.loc[(db['Year'] == 2017), ['Month', 'Day']].groupby(by='Day').count().reset_index()\n",
    "\n",
    "plt.figure(figsize=(10, 5))\n",
    "sns.barplot(x='Day', y='Month', data=valor_2016, color='Blue')\n",
    "plt.plot([valor_2016['Month'].mean()]*31, 'red')\n",
    "plt.title('Frequência [%] de Acidentes por Dia no Ano de 2016')\n",
    "plt.xlabel('Dia')\n",
    "plt.ylabel('Frequência [%]')\n",
    "plt.show()\n",
    "\n",
    "plt.figure(figsize=(10, 5))\n",
    "sns.barplot(x='Day', y='Month', data=valor_2017, color='Blue')\n",
    "plt.plot([valor_2017['Month'].mean()]*31, 'red')\n",
    "plt.title('Frequência [%] de Acidentes por Dia no Ano de 2017')\n",
    "plt.xlabel('Dia')\n",
    "plt.ylabel('Frequência [%]')\n",
    "plt.show()"
   ]
  },
  {
   "cell_type": "code",
   "execution_count": null,
   "metadata": {
    "colab": {
     "base_uri": "https://localhost:8080/",
     "height": 265
    },
    "id": "Aj8H8PGYzorw",
    "outputId": "d384f61c-bb7b-414e-d6b4-fa8df765cb13"
   },
   "outputs": [],
   "source": [
    "# db2 = db.loc[(db['Year'] == 2016), ['Month', 'Day']]\n",
    "gp = pd.pivot_table(db.loc[(db['Year'] == 2016), ['Month', 'Day']], index='Month', columns='Day', aggfunc=len)\n",
    "\n",
    "plt.figure(figsize=(10,10))\n",
    "g = sns.heatmap(\n",
    "    gp, \n",
    "    square=True, # make cells square\n",
    "    cbar_kws={'fraction' : 0.01}, # shrink colour bar\n",
    "    cmap='OrRd', # use orange/red colour map\n",
    "    linewidth=1 # space between cells\n",
    ")"
   ]
  },
  {
   "cell_type": "code",
   "execution_count": null,
   "metadata": {},
   "outputs": [],
   "source": [
    "# Converter os valores da colunas 'Potential Accident Level' e 'Accident Level' para decimal\n",
    "def mudar_valor(database, coluna, buscar, saida):\n",
    "    '''Função para mudar valor de determinada coluna no dataframe'''\n",
    "    database.loc[database[coluna] == buscar, coluna] = saida\n",
    "    return database\n",
    "\n",
    "db = mudar_valor(db, coluna='Potential Accident Level', buscar='I', saida=1)\n",
    "db = mudar_valor(db, coluna='Potential Accident Level', buscar='II', saida=2)\n",
    "db = mudar_valor(db, coluna='Potential Accident Level', buscar='III', saida=3)\n",
    "db = mudar_valor(db, coluna='Potential Accident Level', buscar='IV', saida=4)\n",
    "db = mudar_valor(db, coluna='Potential Accident Level', buscar='V', saida=5)\n",
    "db = mudar_valor(db, coluna='Potential Accident Level', buscar='VI', saida=6)\n",
    "db = mudar_valor(db, coluna='Accident Level', buscar='I', saida=1)\n",
    "db = mudar_valor(db, coluna='Accident Level', buscar='II', saida=2)\n",
    "db = mudar_valor(db, coluna='Accident Level', buscar='III', saida=3)\n",
    "db = mudar_valor(db, coluna='Accident Level', buscar='IV', saida=4)\n",
    "db = mudar_valor(db, coluna='Accident Level', buscar='V', saida=5)\n",
    "\n",
    "db.head()"
   ]
  },
  {
   "cell_type": "markdown",
   "metadata": {
    "id": "eXEoRKptqRQN"
   },
   "source": [
    "**Ajuste de Labels**\n",
    "\n",
    "É preciso rotular as colunas com formato strings para fazer uma análise de correlação."
   ]
  },
  {
   "cell_type": "code",
   "execution_count": null,
   "metadata": {
    "id": "PCkKv-spJc6M"
   },
   "outputs": [],
   "source": [
    "db1 = db.copy() # Cópia do dataset para rotular as categorias\n",
    "\n",
    "# Função para transformar os rótulos de cada coluna para a função matrix plot\n",
    "transform_dict = {col: LabelEncoder() for col in db1.iloc[:,4:]}\n",
    "for col in db1.iloc[:,4:]:\n",
    "    transform_dict[col].fit_transform(db1[col])\n",
    "\n",
    "db1['Countries'] = transform_dict['Countries'].transform(db1['Countries'])\n",
    "db1['Local'] = transform_dict['Local'].transform(db1['Local'])\n",
    "db1['Industry Sector'] = transform_dict['Industry Sector'].transform(db1['Industry Sector'])\n",
    "db1['Accident Level'] = transform_dict['Accident Level'].transform(db1['Accident Level'])\n",
    "db1['Potential Accident Level'] = transform_dict['Potential Accident Level'].transform(db1['Potential Accident Level'])\n",
    "db1['Genre'] = transform_dict['Genre'].transform(db1['Genre'])\n",
    "db1['Employee ou Terceiro'] = transform_dict['Employee ou Terceiro'].transform(db1['Employee ou Terceiro'])\n",
    "db1['Risco Critico'] = transform_dict['Risco Critico'].transform(db1['Risco Critico'])\n",
    "db1['Year'] = db1['Year'].astype(int)\n",
    "db1['Month'] = db1['Month'].astype(int)\n",
    "db1['Day'] = db1['Day'].astype(int)\n",
    "db1['Week_day'] = db1['Week_day'].astype(int)\n",
    "\n",
    "# Plot Matrix\n",
    "sns.pairplot(db1.iloc[:,1:], hue='Accident Level')"
   ]
  },
  {
   "cell_type": "markdown",
   "metadata": {},
   "source": [
    "## Após a análise será descartado algumas colunas do dataset\n",
    "        As colunas: 'Year', 'Month', 'Day' não são significativas para o processo"
   ]
  },
  {
   "cell_type": "code",
   "execution_count": null,
   "metadata": {},
   "outputs": [],
   "source": [
    "db.drop(columns=['Year', 'Month', 'Day'], inplace=True)\n",
    "db.head()"
   ]
  },
  {
   "cell_type": "markdown",
   "metadata": {},
   "source": [
    "**Separar conjunto de treinamento e teste**"
   ]
  },
  {
   "cell_type": "code",
   "execution_count": null,
   "metadata": {},
   "outputs": [],
   "source": [
    "# Copiar dataset\n",
    "db_modelo = db.copy()\n",
    "\n",
    "prop = 0.2 # Valor utilizado para o conjunto de testes\n",
    "randon_state = 20 # Valor aleatório para embaralhar as linhas do dataset\n",
    "\n",
    "# Ajustar coluna 'Accident Level' e 'Potential Accident Level' para valores numericos\n",
    "db_modelo['Accident Level'] = db_modelo['Accident Level'].astype(int)\n",
    "db_modelo['Potential Accident Level'] = db_modelo['Potential Accident Level'].astype(int)\n",
    "db_modelo['Week_day'] = db_modelo['Week_day'].astype(int)\n",
    "\n",
    "# Função para transformar os rótulos de cada coluna\n",
    "colunas_transformar = ['Countries', 'Local', 'Industry Sector', 'Genre', 'Employee ou Terceiro', 'Risco Critico']\n",
    "transform_dict = {col: LabelEncoder() for col in db_modelo.loc[:,colunas_transformar]}\n",
    "for col in db_modelo.loc[:,colunas_transformar]:\n",
    "    transform_dict[col].fit_transform(db_modelo[col])\n",
    "for coluna in colunas_transformar:\n",
    "    db_modelo[coluna] = transform_dict[coluna].transform(db_modelo[coluna])\n",
    "\n",
    "# Separar dados de entrada e rótulos (saída)\n",
    "X = db_modelo.iloc[:,:-1]\n",
    "y = db_modelo.iloc[:,-1]\n",
    "\n",
    "# Separar dados de treinamento\n",
    "X_train, X_test, y_train, y_test = train_test_split(X, y, test_size=prop, random_state=randon_state)"
   ]
  },
  {
   "cell_type": "markdown",
   "metadata": {
    "id": "rwCCrCyDJeSQ"
   },
   "source": [
    "\n",
    "## Classificador Naive Bayes\n",
    "\n",
    "Utilizando a base de dados fornecida, criar um classificador baseado em Näive Bayes que classifique o nível do acidente dadas as demais informações. Discuta quais variáveis são mais ou menos relevantes para o processo de decisão."
   ]
  },
  {
   "cell_type": "code",
   "execution_count": null,
   "metadata": {
    "id": "ND_lMZpa0o5I"
   },
   "outputs": [],
   "source": [
    "# Função para apresentar os resultados:\n",
    "\n",
    "def resultado_modelo(modelo, X_treino, X_teste, y_treino, y_teste, modelo_nome='Naive Bayes'):\n",
    "    '''Está função cria os resultados de interesse apresentado pelo Naive Bayes'''\n",
    "\n",
    "    print('Resultado do modelo utilizando validação cruzada com k-fold de 10')\n",
    "    print()\n",
    "    # Acurácia\n",
    "    scores_acc = cross_val_score(modelo, X_treino, y_treino, cv = 10, scoring='accuracy')\n",
    "    print('Cross-validation scores accurancy: {}'.format(scores_acc))\n",
    "    print('Average cross-validation score accurancy: {}'.format(scores_acc.mean()))\n",
    "    print()\n",
    "\n",
    "    # Root Mean Square Error (RMSE)\n",
    "    scores_rmse = cross_val_score(modelo, X_treino, y_treino, cv = 10, scoring='neg_root_mean_squared_error')*(-1)\n",
    "    print('Cross-validation Root Mean Square Error (RMSE):{}'.format(scores_rmse))\n",
    "    print('Average cross-validation Root Mean Square Error (RMSE): {}'.format(scores_rmse.mean()))\n",
    "    print()\n",
    "\n",
    "    # KAPPA (RMSE)\n",
    "    scores_kappa = cross_val_score(modelo, X_treino, y_treino, cv = 10, scoring=make_scorer(cohen_kappa_score, greater_is_better=False))  \n",
    "    print('Cross-validation kappa Score:{}'.format(scores_kappa))\n",
    "    print('Average cross-validation kappa Score: {}'.format(scores_kappa.mean()))\n",
    "\n",
    "    print()\n",
    "    print('#'*100)\n",
    "    print()\n",
    "\n",
    "    print('Resultado do modelo no conjunto de treinamento e teste')\n",
    "    print()\n",
    "    # Acurácia treinamento e teste\n",
    "    pred_treino = model.predict(X_treino)\n",
    "    print('Test set Score: ', accuracy_score(y_teste, predicted))\n",
    "    print('Training set score: ', accuracy_score(y_treino, pred_treino))\n",
    "    # Estatística Kappa\n",
    "    kappa = cohen_kappa_score(y_teste, predicted)\n",
    "    print('Kappa Score do conjunto de teste: {}'.format(kappa))\n",
    "    # RMSE\n",
    "    rmse = mean_squared_error(y_teste, predicted)\n",
    "    print('RMSE do conjunto de teste: {}'.format(rmse))\n",
    "    print()\n",
    "    # Relatorio de Classificação\n",
    "    print('Relatório do conjunto de teste')\n",
    "    print(classification_report(y_teste, predicted, target_names=['I', 'II', 'III', 'IV', 'V']))\n",
    "    print()\n",
    "\n",
    "    # Matriz de Confusão\n",
    "    print('Matriz de Confusão do conjunto de teste')\n",
    "    print()\n",
    "\n",
    "    fig, ax = plt.subplots(dpi=100)\n",
    "    disp = plot_confusion_matrix(modelo, X_teste, y_teste, cmap=plt.cm.Blues, \n",
    "                                 display_labels=['I', 'II', 'III', 'IV', 'V'], ax=ax) \n",
    "    plt.title('Matriz de Confusão do ' + str(modelo_nome))\n",
    "    plt.xlabel(\"Valor Predito\") \n",
    "    plt.ylabel(\"Valor Real\") \n",
    "    plt.show() "
   ]
  },
  {
   "cell_type": "markdown",
   "metadata": {
    "id": "hCdFAsd9gQ0u"
   },
   "source": [
    "## Naive Bayes"
   ]
  },
  {
   "cell_type": "code",
   "execution_count": null,
   "metadata": {
    "id": "txTsdV5_hiGj"
   },
   "outputs": [],
   "source": [
    "#Create a MultinomialNB Classifier\n",
    "model = MultinomialNB()\n",
    "\n",
    "# # Train the model using the training sets\n",
    "model.fit(X_train,y_train)\n",
    "\n",
    "# #Predict Output\n",
    "predicted= model.predict(X_test)"
   ]
  },
  {
   "cell_type": "code",
   "execution_count": null,
   "metadata": {
    "colab": {
     "base_uri": "https://localhost:8080/",
     "height": 1000
    },
    "id": "1Llu-jfP9hKI",
    "outputId": "9b7cfac9-bb2c-4e4d-cb22-5fc369838d29",
    "scrolled": false
   },
   "outputs": [],
   "source": [
    "resultado_modelo(model, X_train, X_test, y_train, y_test)"
   ]
  },
  {
   "cell_type": "markdown",
   "metadata": {},
   "source": [
    "**Análise dos parâmetros mais importantes do Naive Bayes**"
   ]
  },
  {
   "cell_type": "code",
   "execution_count": null,
   "metadata": {},
   "outputs": [],
   "source": [
    "pd.DataFrame(model.coef_, columns=X_train.columns.values.tolist(), index=model.classes_)"
   ]
  },
  {
   "cell_type": "code",
   "execution_count": null,
   "metadata": {},
   "outputs": [],
   "source": [
    "pd.DataFrame(model.feature_count_, columns=X_train.columns.values.tolist(), index=model.classes_)"
   ]
  },
  {
   "cell_type": "code",
   "execution_count": null,
   "metadata": {},
   "outputs": [],
   "source": [
    "pd.DataFrame(np.e**model.feature_log_prob_*100, columns=X_train.columns.values.tolist(), index=model.classes_)"
   ]
  },
  {
   "cell_type": "code",
   "execution_count": null,
   "metadata": {},
   "outputs": [],
   "source": [
    " np.e**(model.class_log_prior_)"
   ]
  },
  {
   "cell_type": "code",
   "execution_count": null,
   "metadata": {},
   "outputs": [],
   "source": [
    "prob = np.e**(model.feature_log_prob_[0, :])\n",
    "pd.DataFrame(np.round(prob*100, 2), \n",
    "             index=X_train.columns.values.tolist()).sort_values(by=0, ascending=False).rename(columns={0:'Importância'})"
   ]
  },
  {
   "cell_type": "markdown",
   "metadata": {
    "id": "HDUSjDR1Jiu5"
   },
   "source": [
    "## Classificador Bayesiano com estrutura determinada a partir dos dados\n",
    "\n",
    "Utilizando a base de dados fornecida, criar um classificador bayesiano com estrutura determinada a partir dos dados, teste diferentes parâmetros de treinamento de modo a tentar encontrar um modelo que supere o modelo Näive Bayes. Discuta quais variáveis são mais ou menos relevantes para o processo de decisão"
   ]
  },
  {
   "cell_type": "code",
   "execution_count": null,
   "metadata": {},
   "outputs": [],
   "source": [
    "def pred_bayes(data, modelo_treinado):\n",
    "    '''Função para predição dos valores em um modelo Bayesiano\n",
    "    \n",
    "    data -> dataset em formato pandas (valor de saida ou rótulo terá que estar na última coluna do dataset)\n",
    "    modelo -> modelo da rede Bayesiana treinada pelo bnlearn.parameter_learning.fit\n",
    "    \n",
    "    saída -> pandas series com os valores da predição da rede bayesiana\n",
    "    '''\n",
    "    \n",
    "    pred_list = []\n",
    "    saida = data.columns.values[-1]\n",
    "    \n",
    "    for row in range(len(data)):\n",
    "        evidencia = {}\n",
    "        for column in data.columns.values[:-1]:\n",
    "            valor = data.iloc[row].loc[column]\n",
    "            evidencia[column] = valor\n",
    "        \n",
    "        # Realizar inferência no modelo treinado\n",
    "        prob_row = bnlearn.inference.fit(modelo_treinado, variables=[saida], evidence=evidencia, verbose=0)\n",
    "        \n",
    "        prob_to_list = prob_row.values.tolist() # transformar saída da inferência em lista\n",
    "        max_value = max(prob_to_list) # Pegar valor máximo da lista\n",
    "        pred = int(prob_to_list.index(max_value)) + 1 # Valor de saída (index + 1)\n",
    "\n",
    "        pred_list.append(pred)\n",
    "        \n",
    "    return pd.Series(np.array(pred_list))\n",
    "\n",
    "def kfoldcv(indices, k = 10, seed = randon_state):\n",
    "    '''Função kfold'''\n",
    "    \n",
    "    size = len(indices)\n",
    "    subset_size = round(size / k)\n",
    "    random.Random(seed).shuffle(indices)    \n",
    "    \n",
    "    subsets = [indices[x:x+subset_size] for x in range(0, len(indices), subset_size)]    \n",
    "    \n",
    "    kfolds = []\n",
    "    for i in range(k):\n",
    "        test = subsets[i]\n",
    "        train = []\n",
    "        for subset in subsets:\n",
    "            if subset != test:\n",
    "                train.append(subset)\n",
    "        kfolds.append((train,test))\n",
    "        \n",
    "    return kfolds\n",
    "\n",
    "def dictSplitTrainTest(dataset_treino, k=10, seed=20):\n",
    "    '''Retorna um dicionário contendo os indíces de treinamento e teste em kfolds'''\n",
    "    db_treino = dataset_treino.reset_index(drop=True)\n",
    "    indice = [x for x in range(len(db_treino))]\n",
    "    divisao = kfoldcv(indice, k=k, seed=seed)\n",
    "\n",
    "    cv = {}\n",
    "    for j in range(len(divisao)):\n",
    "        treino = 'treino' + str(j)\n",
    "        teste = 'teste' + str(j)\n",
    "        cv[treino] = []\n",
    "        cv[teste] = []\n",
    "        cv[teste] += divisao[j][1]\n",
    "\n",
    "        for lista in divisao[j][0]:\n",
    "            cv[treino] += lista\n",
    "    \n",
    "    return cv\n",
    "\n",
    "def cvBayes(data_treino, modelo_bayes, k=10, seed=20):\n",
    "    '''Realizar validação cruzada kfold\n",
    "    \n",
    "    Retorna 3 listas com k resultados, sendo:\n",
    "        primeira lista de acuracidade;\n",
    "        segunda lista o de kappa score;\n",
    "        terceira lista o de rmse;\n",
    "    '''\n",
    "\n",
    "    lista_cv_acc = []\n",
    "    lista_cv_kappa = []\n",
    "    lista_cv_rmse = []\n",
    "    \n",
    "    dicSplit = dictSplitTrainTest(data_treino, k=k, seed=seed) #Chamar função para dividir kfold treino/teste\n",
    "    \n",
    "    for i in range(int(len(dicSplit)/2)):\n",
    "        \n",
    "        # Separar indices do conjunto de treinamento\n",
    "        nome_treino = 'treino' + str(i)\n",
    "        nome_teste = 'teste' + str(i)\n",
    "        df_treino = data_treino.iloc[dicSplit[nome_treino]]\n",
    "        df_teste = data_treino.iloc[dicSplit[nome_teste]]\n",
    "        df_inteiro = data_treino.iloc[dicSplit[nome_treino]+dicSplit[nome_teste]]\n",
    "        \n",
    "        # Treinar o modelo bayesiano\n",
    "        modelo_treinado = bnlearn.parameter_learning.fit(modelo_bayes, df_inteiro, verbose=0)\n",
    "        \n",
    "        # Predição no conjunto de teste\n",
    "        predicao = pred_bayes(data=df_teste, modelo_treinado=modelo_treinado)\n",
    "        \n",
    "        y_teste = df_teste.iloc[:,-1].astype(int)\n",
    "        acc = accuracy_score(y_teste, predicao)\n",
    "        kappa = cohen_kappa_score(y_teste, predicao)\n",
    "        rmse = mean_squared_error(y_teste, predicao)\n",
    "        \n",
    "        lista_cv_acc.append(acc)\n",
    "        lista_cv_kappa.append(kappa)\n",
    "        lista_cv_rmse.append(rmse)\n",
    "        \n",
    "    return lista_cv_acc, lista_cv_kappa, lista_cv_rmse"
   ]
  },
  {
   "cell_type": "markdown",
   "metadata": {},
   "source": [
    "**Achar modelo ótimo da rede Bayesiana Estruturada para o conjunto do dataset**"
   ]
  },
  {
   "cell_type": "code",
   "execution_count": null,
   "metadata": {},
   "outputs": [],
   "source": [
    "modelo_bayes_otimo['model']."
   ]
  },
  {
   "cell_type": "code",
   "execution_count": null,
   "metadata": {},
   "outputs": [],
   "source": [
    "#Buscar modelo otimo hill climbing search and metric function 'K2'\n",
    "modelo_bayes_otimo = bnlearn.structure_learning.fit(db_modelo, methodtype='hc', scoretype='k2')\n",
    "\n",
    "# Gráfico do modelo\n",
    "G = bnlearn.plot(modelo_bayes_otimo)"
   ]
  },
  {
   "cell_type": "code",
   "execution_count": null,
   "metadata": {},
   "outputs": [],
   "source": [
    "edges = [('Local', 'Industry Sector'), ('Local', 'Countries'), ('Local', 'Employee ou Terceiro'), \n",
    "         ('Industry Sector', 'Risco Critico'), ('Industry Sector', 'Week_day'), \n",
    "         ('Potential Accident Level', 'Local'), ('Genre', 'Local'), ('Genre', 'Employee ou Terceiro'), \n",
    "         ('Genre', 'Potential Accident Level'), ('Accident Level', 'Potential Accident Level'), \n",
    "         ('Accident Level', 'Week_day')]"
   ]
  },
  {
   "cell_type": "markdown",
   "metadata": {},
   "source": [
    "**Treinar e testar o modelo Bayesiano**"
   ]
  },
  {
   "cell_type": "code",
   "execution_count": null,
   "metadata": {
    "id": "U-Tth2vqJovT"
   },
   "outputs": [],
   "source": [
    "# Juntar data de treinamento X com y (entrada e saída)\n",
    "db_b_treino = X_train.copy() # Será utilizado na validação cruzada kfold\n",
    "db_b_treino['Accident Level'] = y_train\n",
    "\n",
    "# Juntar data de teste X com y (entrada e saída)\n",
    "db_b_teste = X_test.copy()\n",
    "db_b_teste['Accident Level'] = y_test\n",
    "\n",
    "# Treinar o modelo bayesiano\n",
    "modelo_treinado = bnlearn.parameter_learning.fit(modelo_bayes_otimo, db_modelo, verbose=0)\n",
    "\n",
    "#Create a Bayes Classifier no conjunto de teste\n",
    "pred_test = pred_bayes(data=db_b_teste, modelo_treinado=modelo_treinado)\n",
    "\n",
    "#Create a Bayes Classifier no conjunto de treinamento\n",
    "pred_train = pred_bayes(data=db_b_treino, modelo_treinado=modelo_treinado)"
   ]
  },
  {
   "cell_type": "code",
   "execution_count": null,
   "metadata": {},
   "outputs": [],
   "source": [
    "print('Resultado do modelo utilizando validação cruzada com k-fold de 10')\n",
    "print()\n",
    "\n",
    "lista_cv_acc, lista_cv_kappa, lista_cv_rmse = cvBayes(data_treino=db_b_treino, \n",
    "                                                      modelo_bayes=modelo_bayes_otimo, k=10, seed=20)\n",
    "\n",
    "# Acurácia\n",
    "print('Cross-validation scores accurancy:{}'.format(lista_cv_acc))\n",
    "print('Average cross-validation score accurancy: {}'.format(np.mean(lista_cv_acc)))\n",
    "print()\n",
    "\n",
    "# KAPPA (RMSE)\n",
    "print('Cross-validation kappa Score:{}'.format(lista_cv_kappa))\n",
    "print('Average cross-validation kappa Score: {}'.format(np.mean(lista_cv_kappa)))\n",
    "print()\n",
    "\n",
    "# RMSE\n",
    "print('Cross-validation RMSE:{}'.format(lista_cv_rmse))\n",
    "print('Average cross-validation RMSE: {}'.format(np.mean(lista_cv_rmse)))\n",
    "\n",
    "print()\n",
    "print('#'*100)\n",
    "print()\n",
    "\n",
    "print('Resultado do modelo no conjunto de treinamento e teste')\n",
    "print()\n",
    "y_teste = db_b_teste.iloc[:,-1].astype(int)\n",
    "y_treino = db_b_treino.iloc[:,-1].astype(int)\n",
    "\n",
    "# Acurácia treinamento e teste\n",
    "print('Test set Score: ', accuracy_score(y_teste, pred_test))\n",
    "print('Training set score: ', accuracy_score(y_treino,pred_train))\n",
    "print()\n",
    "\n",
    "# Estatística Kappa\n",
    "kappa = cohen_kappa_score(y_teste, pred_test)\n",
    "print('Kappa Score do conjunto de teste:{}'.format(kappa))\n",
    "print()\n",
    "\n",
    "# Estatística RMSE\n",
    "rmse = mean_squared_error(y_teste, pred_test)\n",
    "print('RMSE conjunto de teste:{}'.format(rmse))\n",
    "print()\n",
    "\n",
    "# Relatorio de Classificação\n",
    "print('Relatório do conjunto de teste')\n",
    "print(classification_report(y_teste, pred_test, target_names=['I', 'II', 'III', 'IV', 'V']))\n",
    "print()\n",
    "\n",
    "#Get the confusion matrix\n",
    "cf_matrix = confusion_matrix(y_teste, pred_test)\n",
    "fig, ax = plt.subplots(dpi=100)\n",
    "sns.heatmap(cf_matrix, xticklabels=['I', 'II', 'III', 'IV', 'V'], \n",
    "            yticklabels=['I', 'II', 'III', 'IV', 'V'], annot=True, cmap='Blues' , ax=ax)\n",
    "plt.title('Matriz de Confusão da Rede Bayesiana Estruturada')\n",
    "plt.xlabel(\"Valor Predito\") \n",
    "plt.ylabel(\"Valor Real\") \n",
    "plt.yticks(rotation=0) "
   ]
  },
  {
   "cell_type": "markdown",
   "metadata": {},
   "source": [
    "## Decision Tree\n",
    "\n",
    "        Teste com o método de Árvore de Decisão"
   ]
  },
  {
   "cell_type": "code",
   "execution_count": null,
   "metadata": {},
   "outputs": [],
   "source": [
    "#Create a MultinomialNB Classifier\n",
    "model = DecisionTreeClassifier()\n",
    "\n",
    "# # Train the model using the training sets\n",
    "model.fit(X_train,y_train)\n",
    "\n",
    "# #Predict Output\n",
    "predicted= model.predict(X_test)"
   ]
  },
  {
   "cell_type": "code",
   "execution_count": null,
   "metadata": {
    "scrolled": true
   },
   "outputs": [],
   "source": [
    "import graphviz \n",
    "dot_data = tree.export_graphviz(model, out_file=None, \n",
    "                                feature_names=X_train.columns.values.tolist(),  \n",
    "                                class_names='Accidente Level',  \n",
    "                                filled=True, rounded=True,  \n",
    "                                special_characters=True)  \n",
    "graph = graphviz.Source(dot_data)  \n",
    "graph "
   ]
  },
  {
   "cell_type": "code",
   "execution_count": null,
   "metadata": {},
   "outputs": [],
   "source": [
    "resultado_modelo(model, X_train, X_test, y_train, y_test, modelo_nome='Decision Tree')"
   ]
  }
 ],
 "metadata": {
  "colab": {
   "collapsed_sections": [],
   "name": "Acidente de Trabalho.ipynb",
   "provenance": []
  },
  "kernelspec": {
   "display_name": "Python 3",
   "language": "python",
   "name": "python3"
  },
  "language_info": {
   "codemirror_mode": {
    "name": "ipython",
    "version": 3
   },
   "file_extension": ".py",
   "mimetype": "text/x-python",
   "name": "python",
   "nbconvert_exporter": "python",
   "pygments_lexer": "ipython3",
   "version": "3.8.3"
  }
 },
 "nbformat": 4,
 "nbformat_minor": 1
}
